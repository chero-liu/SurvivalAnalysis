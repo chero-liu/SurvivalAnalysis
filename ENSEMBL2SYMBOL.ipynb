{
 "cells": [
  {
   "cell_type": "code",
   "execution_count": 2,
   "id": "2d4afd43-7e83-4abe-aee2-713edc9f4ab5",
   "metadata": {},
   "outputs": [],
   "source": [
    "# library(stringr)\n",
    "# library(ggplot2)\n",
    "# library(ggrepel)\n",
    "# library(dplyr)\n",
    "library(clusterProfiler)\n",
    "library(org.Hs.eg.db)\n",
    "# library(biomaRt)\n",
    "\n",
    "remove_duplicates <- function(df, column_name) {\n",
    "  df$sum <- rowSums(df[, -which(names(df) == column_name)])\n",
    "  df <- df[order(df[[column_name]], -df$sum), ]\n",
    "  df <- df[!duplicated(df[[column_name]]), ]\n",
    "  df$sum <- NULL\n",
    "  return(df)\n",
    "}"
   ]
  },
  {
   "cell_type": "code",
   "execution_count": 5,
   "id": "29483005-d147-486a-a1df-689e448aaaec",
   "metadata": {},
   "outputs": [
    {
     "name": "stderr",
     "output_type": "stream",
     "text": [
      "'select()' returned 1:many mapping between keys and columns\n",
      "\n",
      "Warning message in bitr(data$gene_id, fromType = \"ENSEMBL\", toType = \"SYMBOL\", OrgDb = \"org.Hs.eg.db\"):\n",
      "“40.09% of input gene IDs are fail to map...”\n"
     ]
    }
   ],
   "source": [
    "disease = 'LUSC'\n",
    "\n",
    "\n",
    "\n",
    "input = paste0(\"/home/liuchenglong/Documents/TCGA/3.intergra/\",disease,\"_tpm_unstranded.txt\")\n",
    "genetype = 'ensembl_gene_id'\n",
    "data = read.csv(input,sep = '\\t',header=TRUE,check.names = FALSE)\n",
    "result = bitr(data$gene_id,fromType = 'ENSEMBL',toType = 'SYMBOL',OrgDb = 'org.Hs.eg.db')\n",
    "colnames(result) = c('gene_id','symbol')\n",
    "data1 = as.data.frame(merge(data,result,by = 'gene_id'))\n",
    "data1 = data1[data1$symbol !='',]\n",
    "data1 = data1[,-1]\n",
    "data1 = remove_duplicates(data1,'symbol')\n",
    "rownames(data1) = data1$symbol\n",
    "data1 = data1[,-ncol(data1)]\n",
    "rm(data)\n",
    "colnames(data1) <- substr(colnames(data1), 1, 12)\n",
    "write.table(data1,paste0('/home/liuchenglong/Documents/TCGA/4.ENSEMBL2SYMBOL/',disease,'_tpm_unstranded.txt'),sep = '\\t',row.names = TRUE)"
   ]
  },
  {
   "cell_type": "code",
   "execution_count": 4,
   "id": "54ec63f5-a8d3-43a3-95e6-ccfe73c47c0f",
   "metadata": {},
   "outputs": [],
   "source": []
  },
  {
   "cell_type": "code",
   "execution_count": null,
   "id": "04ee5206-c621-45a6-9cff-690d90d68a3e",
   "metadata": {},
   "outputs": [],
   "source": []
  },
  {
   "cell_type": "code",
   "execution_count": null,
   "id": "8793b069-6b09-4393-a386-49a30c3c8230",
   "metadata": {},
   "outputs": [],
   "source": []
  },
  {
   "cell_type": "code",
   "execution_count": null,
   "id": "8ab42896-9a51-45ab-8e9f-8762b720dfaf",
   "metadata": {},
   "outputs": [],
   "source": []
  },
  {
   "cell_type": "code",
   "execution_count": null,
   "id": "3542ce6a-e148-479f-853b-365556848c26",
   "metadata": {},
   "outputs": [],
   "source": []
  },
  {
   "cell_type": "code",
   "execution_count": 41,
   "id": "1f5b9113-8e56-4776-80ce-0a3fc5ab495d",
   "metadata": {},
   "outputs": [],
   "source": []
  },
  {
   "cell_type": "code",
   "execution_count": null,
   "id": "1204250e-a578-4520-bcbd-286011c02386",
   "metadata": {},
   "outputs": [],
   "source": []
  }
 ],
 "metadata": {
  "kernelspec": {
   "display_name": "R",
   "language": "R",
   "name": "ir"
  },
  "language_info": {
   "codemirror_mode": "r",
   "file_extension": ".r",
   "mimetype": "text/x-r-source",
   "name": "R",
   "pygments_lexer": "r",
   "version": "4.2.3"
  }
 },
 "nbformat": 4,
 "nbformat_minor": 5
}
